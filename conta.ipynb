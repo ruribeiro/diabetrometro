{
  "nbformat": 4,
  "nbformat_minor": 0,
  "metadata": {
    "colab": {
      "provenance": [],
      "authorship_tag": "ABX9TyM+sT41UzHCCmcsAKR64V1L",
      "include_colab_link": true
    },
    "kernelspec": {
      "name": "python3",
      "display_name": "Python 3"
    },
    "language_info": {
      "name": "python"
    }
  },
  "cells": [
    {
      "cell_type": "markdown",
      "metadata": {
        "id": "view-in-github",
        "colab_type": "text"
      },
      "source": [
        "<a href=\"https://colab.research.google.com/github/ruribeiro/diabetrometro/blob/main/conta.ipynb\" target=\"_parent\"><img src=\"https://colab.research.google.com/assets/colab-badge.svg\" alt=\"Open In Colab\"/></a>"
      ]
    },
    {
      "cell_type": "code",
      "execution_count": null,
      "metadata": {
        "id": "E90YKI14zFtg"
      },
      "outputs": [],
      "source": [
        "def cria_conta(numero, titular, saldo, limite):\n",
        "  conta={\"numero\": numero,\"titular\": titular, \"saldo\": saldo, \"limite\": limite}\n",
        "  return conta\n",
        "\n",
        "def\n"
      ]
    }
  ]
}